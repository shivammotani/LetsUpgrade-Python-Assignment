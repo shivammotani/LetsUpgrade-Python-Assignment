{
 "cells": [
  {
   "cell_type": "markdown",
   "metadata": {},
   "source": [
    "# Armstrong Number\n",
    "\n"
   ]
  },
  {
   "cell_type": "code",
   "execution_count": 11,
   "metadata": {},
   "outputs": [
    {
     "name": "stdout",
     "output_type": "stream",
     "text": [
      "The first Armstrong number in the range of 1042000 to 702648265 is 1741725\n"
     ]
    }
   ],
   "source": [
    "for num in range(1042000, 702648266):\n",
    "    \n",
    "    y = len(str(num))\n",
    "    k=0\n",
    "    temp = num\n",
    "    while temp > 0:\n",
    "        x = temp%10\n",
    "        k = k + x**y\n",
    "        temp //= 10\n",
    "    if k == num:\n",
    "        print(\"The first Armstrong number in the range of 1042000 to 702648265 is\",num)\n",
    "        break"
   ]
  },
  {
   "cell_type": "code",
   "execution_count": null,
   "metadata": {},
   "outputs": [],
   "source": []
  }
 ],
 "metadata": {
  "kernelspec": {
   "display_name": "Python 3",
   "language": "python",
   "name": "python3"
  },
  "language_info": {
   "codemirror_mode": {
    "name": "ipython",
    "version": 3
   },
   "file_extension": ".py",
   "mimetype": "text/x-python",
   "name": "python",
   "nbconvert_exporter": "python",
   "pygments_lexer": "ipython3",
   "version": "3.8.5"
  }
 },
 "nbformat": 4,
 "nbformat_minor": 4
}
