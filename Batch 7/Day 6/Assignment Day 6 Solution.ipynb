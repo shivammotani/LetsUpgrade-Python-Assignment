{
 "cells": [
  {
   "cell_type": "markdown",
   "metadata": {},
   "source": [
    "# Question 1\n",
    "\n",
    "For this challenge,create a bank account class that has two attributes\n",
    "\n",
    "ownerName, Balance\n",
    "\n",
    "And two methods\n",
    "\n",
    "deposit, withdraw\n",
    "\n",
    "As an added requirement,withdrawals may not exceed the available balance.\n",
    "\n",
    "\n",
    "Instantiate your class,make several deposits and withdrawals,and test to make sure the account\n",
    "cant be overdrawn."
   ]
  },
  {
   "cell_type": "code",
   "execution_count": 30,
   "metadata": {},
   "outputs": [],
   "source": [
    "class bankAccount():\n",
    "    def __init__(self,oName=\"\", balance=0):\n",
    "        self.ownerName = oName\n",
    "        self.Balance = balance\n",
    "        \n",
    "    def deposit(self,amount):\n",
    "        self.Balance += amount\n",
    "        print(\"Amount \" + str(amount) + \" added successfully\")\n",
    "        print(\"Current Balance is \" + str(self.Balance))\n",
    "        \n",
    "    def withdraw(self,amounts):\n",
    "        if amounts< self.Balance:\n",
    "            self.Balance -= amounts\n",
    "            print(\"Withdrawn Successfull\")\n",
    "            print(\"Current Balance is \" + str(self.Balance))\n",
    "        else:\n",
    "            print(\"Insufficient funds\")\n",
    "            print(\"Your Current Balance is \" + str(self.Balance))\n",
    "            \n",
    "    def userData(self):\n",
    "        print(\"Name is \" + self.ownerName)\n",
    "        print(\"Total Balance is \" + str(self.Balance))\n",
    "            \n",
    "            "
   ]
  },
  {
   "cell_type": "code",
   "execution_count": 31,
   "metadata": {},
   "outputs": [
    {
     "name": "stdout",
     "output_type": "stream",
     "text": [
      "Name is Amit\n",
      "Total Balance is 10000\n"
     ]
    }
   ],
   "source": [
    "user1 = bankAccount(\"Amit\", 10000)\n",
    "user1.Balance\n",
    "user1.userData()"
   ]
  },
  {
   "cell_type": "code",
   "execution_count": 32,
   "metadata": {},
   "outputs": [
    {
     "name": "stdout",
     "output_type": "stream",
     "text": [
      "Amount 5000 added successfully\n",
      "Current Balance is 15000\n"
     ]
    }
   ],
   "source": [
    "user1.deposit(5000)\n"
   ]
  },
  {
   "cell_type": "code",
   "execution_count": 33,
   "metadata": {},
   "outputs": [
    {
     "name": "stdout",
     "output_type": "stream",
     "text": [
      "Withdrawn Successfull\n",
      "Current Balance is 9000\n"
     ]
    }
   ],
   "source": [
    "user1.withdraw(6000)"
   ]
  },
  {
   "cell_type": "code",
   "execution_count": 34,
   "metadata": {},
   "outputs": [
    {
     "name": "stdout",
     "output_type": "stream",
     "text": [
      "Insufficient funds\n",
      "Your Current Balance is 9000\n"
     ]
    }
   ],
   "source": [
    "user1.withdraw(12000)"
   ]
  },
  {
   "cell_type": "markdown",
   "metadata": {},
   "source": [
    "# Question 1\n",
    "\n",
    "For this challenge,create a cone class that has two attributes:\n",
    "\n",
    "R=Radius, h=Height\n",
    "\n",
    "And two methods:\n",
    "Volume = Π * r2 * (h/3)\n",
    "Surface area : Π * r * (r+ √(r2 + h2)) \n",
    "\n",
    "Make only one class with functions,as in where required import Math."
   ]
  },
  {
   "cell_type": "code",
   "execution_count": 50,
   "metadata": {},
   "outputs": [],
   "source": [
    "import math\n",
    "class cone():\n",
    "    def __init__(self, r, h):\n",
    "        self.radius = r\n",
    "        self.height = h\n",
    "        \n",
    "    def volume(self):\n",
    "        volume = math.pi * (self.radius**2) * (self.height / 3)\n",
    "        print(volume)\n",
    "        \n",
    "    def surfaceArea(self):\n",
    "        sArea = math.pi * self.radius * (self.radius + math.sqrt(self.radius**2 + self.height**2))\n",
    "        print(sArea)\n",
    "    "
   ]
  },
  {
   "cell_type": "code",
   "execution_count": 51,
   "metadata": {},
   "outputs": [],
   "source": [
    "ri= cone(3,4)"
   ]
  },
  {
   "cell_type": "code",
   "execution_count": 52,
   "metadata": {},
   "outputs": [
    {
     "name": "stdout",
     "output_type": "stream",
     "text": [
      "37.69911184307752\n"
     ]
    }
   ],
   "source": [
    "ri.volume()"
   ]
  },
  {
   "cell_type": "code",
   "execution_count": 53,
   "metadata": {},
   "outputs": [
    {
     "name": "stdout",
     "output_type": "stream",
     "text": [
      "75.39822368615503\n"
     ]
    }
   ],
   "source": [
    "ri.surfaceArea()"
   ]
  },
  {
   "cell_type": "code",
   "execution_count": null,
   "metadata": {},
   "outputs": [],
   "source": []
  }
 ],
 "metadata": {
  "kernelspec": {
   "display_name": "Python 3",
   "language": "python",
   "name": "python3"
  },
  "language_info": {
   "codemirror_mode": {
    "name": "ipython",
    "version": 3
   },
   "file_extension": ".py",
   "mimetype": "text/x-python",
   "name": "python",
   "nbconvert_exporter": "python",
   "pygments_lexer": "ipython3",
   "version": "3.8.5"
  }
 },
 "nbformat": 4,
 "nbformat_minor": 4
}
